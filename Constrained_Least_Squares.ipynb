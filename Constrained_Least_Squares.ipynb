{
 "cells": [
  {
   "cell_type": "markdown",
   "metadata": {
    "nbgrader": {
     "cell_type": "markdown",
     "checksum": "4ed2824f3666aa932116acae1f023af5",
     "grade": false,
     "grade_id": "cell-b698ee6a42535890",
     "locked": true,
     "schema_version": 3,
     "solution": false,
     "task": false
    }
   },
   "source": [
    "## Constrained Least Squares"
   ]
  },
  {
   "cell_type": "code",
   "execution_count": 1,
   "metadata": {
    "nbgrader": {
     "cell_type": "code",
     "checksum": "205638d2cf3757b8820e7f5f4596fe6c",
     "grade": false,
     "grade_id": "cell-dc03da351d79a15f",
     "locked": true,
     "schema_version": 3,
     "solution": false,
     "task": false
    }
   },
   "outputs": [],
   "source": [
    "# Import necessary libraries\n",
    "import numpy as np\n",
    "# Set seed to reproduce results\n",
    "np.random.seed(40)"
   ]
  },
  {
   "cell_type": "code",
   "execution_count": 2,
   "metadata": {
    "nbgrader": {
     "cell_type": "code",
     "checksum": "9157985d6b1d761283dc1a86c981a57f",
     "grade": false,
     "grade_id": "cell-1250eb7ba746cc5b",
     "locked": true,
     "schema_version": 3,
     "solution": false,
     "task": false
    }
   },
   "outputs": [],
   "source": [
    "# Random matrices for debugging\n",
    "A_ = np.array([[0.45035059, 0.30391231, 0.52639952, 0.62381221],\n",
    "       [0.77677546, 0.68624165, 0.98093886, 0.60081609],\n",
    "       [0.81396852, 0.70864515, 0.02753468, 0.90426722],\n",
    "       [0.44990485, 0.11892465, 0.83530018, 0.20224823]])\n",
    "x_ = np.array([0.40768703, 0.05536604, 0.78853488, 0.28730518])"
   ]
  },
  {
   "cell_type": "markdown",
   "metadata": {
    "deletable": false,
    "editable": false,
    "nbgrader": {
     "cell_type": "markdown",
     "checksum": "80631b7d25287f4ff85c00a01f60d3c8",
     "grade": false,
     "grade_id": "cell-13192272d9716283",
     "locked": true,
     "schema_version": 3,
     "solution": false,
     "task": false
    }
   },
   "source": [
    "### Back Substitution\n",
    "The process of solving a linear system of equations that has been transformed into row-echelon form or reduced row-echelon form.\n",
    "\n",
    "The last row is solved first, followed by second last row and so on.\n",
    "\n",
    "#### General formula\n",
    "x_i = (b_i - A[i, i + 1] * x[i + 1] - ... - A[i, n] * x[n]) / A[i, i]"
   ]
  },
  {
   "cell_type": "code",
   "execution_count": 3,
   "metadata": {
    "nbgrader": {
     "cell_type": "code",
     "checksum": "1dff772c2e1a7b4b8ad2ab71802ca2f2",
     "grade": false,
     "grade_id": "cell-d7f6b90601076c98",
     "locked": false,
     "schema_version": 3,
     "solution": true,
     "task": false
    }
   },
   "outputs": [],
   "source": [
    "def backsubstitution(A: np.ndarray, b: np.ndarray) -> np.ndarray :\n",
    "    \"\"\"Solves a system of linear equations using back substitution. Assumption is that\n",
    "        A is upper triangular\n",
    "\n",
    "    Parameters\n",
    "    ----------\n",
    "    A : ndarray(dtype=float, ndim=2)\n",
    "        Upper triangular matrix with non zero diagonal elements.\n",
    "    b : ndarray(dtype=float, ndim=1)\n",
    "    \n",
    "    Returns\n",
    "    ----------\n",
    "    x : ndarray(dtype=float, ndim=1)\n",
    "        Solution to the system of equations\n",
    "   \"\"\"\n",
    "    \n",
    "    n, m = A.shape\n",
    "    x = np.zeros(n)\n",
    "    \n",
    "    for i in np.arange(n - 1, -1, -1) :\n",
    "        \n",
    "        x[i] = b[i] - np.sum(np.dot(A[i, i+1 : n ], x[i+1 : n]))\n",
    "        x[i] = x[i] / A[i, i]\n",
    "        \n",
    "    return x"
   ]
  },
  {
   "cell_type": "code",
   "execution_count": 4,
   "metadata": {
    "nbgrader": {
     "cell_type": "code",
     "checksum": "141c530ecd94dbf93a70e70cef183ee6",
     "grade": true,
     "grade_id": "cell-9dbad391a8e39526",
     "locked": true,
     "points": 2,
     "schema_version": 3,
     "solution": false,
     "task": false
    }
   },
   "outputs": [
    {
     "name": "stdout",
     "output_type": "stream",
     "text": [
      "-6.938893903907228e-17\n"
     ]
    }
   ],
   "source": [
    "# Compare the value returned by the function with original x\n",
    "# The difference should be small\n",
    "A = np.triu(A_)\n",
    "x = x_\n",
    "\n",
    "b = A @ x\n",
    "xhat = backsubstitution(A, b)\n",
    "print(np.sum(x - xhat))\n"
   ]
  },
  {
   "cell_type": "markdown",
   "metadata": {
    "nbgrader": {
     "cell_type": "markdown",
     "checksum": "765f40b74ed5776279b474177599960e",
     "grade": false,
     "grade_id": "cell-79c2a74c62c8e468",
     "locked": true,
     "schema_version": 3,
     "solution": false,
     "task": false
    }
   },
   "source": [
    "Expected Output : -6.938893903907228e-17"
   ]
  },
  {
   "cell_type": "markdown",
   "metadata": {
    "deletable": false,
    "editable": false,
    "nbgrader": {
     "cell_type": "markdown",
     "checksum": "8fbdf08a7807adfe886d0518e921f606",
     "grade": false,
     "grade_id": "cell-0b410f3bd7db8064",
     "locked": true,
     "schema_version": 3,
     "solution": false,
     "task": false
    }
   },
   "source": [
    "### Gram - Schmidt Orthonormalization\n",
    "The Gram–Schmidt process is a method for orthonormalizing a set of vectors.\n",
    "\n",
    "General Formula :\n",
    "\n",
    "q_i = (a_i - (q_0'a_0)q_0 .... - (q_(i-1)'a_(i-1))q_(i-1))\n",
    "\n",
    "q_i = q_i / |q_i|"
   ]
  },
  {
   "cell_type": "code",
   "execution_count": 5,
   "metadata": {
    "deletable": false,
    "nbgrader": {
     "cell_type": "code",
     "checksum": "3afb0feb6c341595264329083c59e0d4",
     "grade": false,
     "grade_id": "cell-ae068883cc1dc19b",
     "locked": false,
     "schema_version": 3,
     "solution": true,
     "task": false
    }
   },
   "outputs": [],
   "source": [
    "def gram_schmidt(A: np.ndarray) -> np.ndarray :\n",
    "    \"\"\"Makes the matrix orthogonal using the Gram-Schmidt ortogonalisation process.\n",
    "\n",
    "    Parameters\n",
    "    ----------\n",
    "    A : ndarray(dtype=float, ndim=2)\n",
    "        Matrix with non linear rows.\n",
    "    \n",
    "    Returns\n",
    "    ----------\n",
    "    Q : ndarray(dtype=float, ndim=2)\n",
    "        Ortogonal form of A.\n",
    "   \"\"\"\n",
    "    \n",
    "    Q = np.zeros_like(A, dtype = 'float')\n",
    "    n, m = A.shape\n",
    "    \n",
    "    for i in range(n) :\n",
    "        Q[i] = A[i] - sum((Q[k].T @ A[i]).reshape(-1, 1) * Q[k] for k in range(i))\n",
    "        #Q[i] = A[i] - np.sum((Q[: i] @ A[i].T).reshape(-1, 1) * Q[: i], 1)\n",
    "\n",
    "        if np.sqrt(np.sum(Q[i] ** 2)) <= 1e-10 :\n",
    "            raise Exception(\"Rows are linearly dependent\")\n",
    "        else :\n",
    "            Q[i] = Q[i] / np.sqrt(np.sum(Q[i] ** 2))\n",
    "    \n",
    "    return Q "
   ]
  },
  {
   "cell_type": "code",
   "execution_count": 6,
   "metadata": {
    "nbgrader": {
     "cell_type": "code",
     "checksum": "6571bf23208e2d71b09351b41f8b875d",
     "grade": true,
     "grade_id": "cell-a9d3ec7c58a86e78",
     "locked": true,
     "points": 1,
     "schema_version": 3,
     "solution": false,
     "task": false
    }
   },
   "outputs": [
    {
     "name": "stdout",
     "output_type": "stream",
     "text": [
      "[[-0.5  0.5 -0.5  0.5]\n",
      " [ 0.5  0.5  0.5  0.5]\n",
      " [-0.5 -0.5  0.5  0.5]]\n",
      "Norm of q[0] : 1.0\n",
      "Inner product of q[0] and q[2] : 0.0\n"
     ]
    }
   ],
   "source": [
    "a = np.array([ [-1, 1, -1, 1], [-1, 3, -1, 3], [1, 3, 5, 7] ])\n",
    "q = gram_schmidt(a)\n",
    "print(q)\n",
    "#Test orthonormality\n",
    "print('Norm of q[0] :', (sum(q[0]**2))**0.5)\n",
    "print('Inner product of q[0] and q[2] :', q[0] @ q[2])\n"
   ]
  },
  {
   "cell_type": "markdown",
   "metadata": {
    "nbgrader": {
     "cell_type": "markdown",
     "checksum": "5d2027079a3d4fdbea2993ce0652fa52",
     "grade": false,
     "grade_id": "cell-358c3f1fbbe0462a",
     "locked": true,
     "schema_version": 3,
     "solution": false,
     "task": false
    }
   },
   "source": [
    "Expected Output :\n",
    "[[-0.5  0.5 -0.5  0.5]\n",
    " [ 0.5  0.5  0.5  0.5]\n",
    " [-0.5 -0.5  0.5  0.5]]\n",
    " \n",
    "Norm of q[0] : 1.0\n",
    "\n",
    "Inner product of q[0] and q[2] : 0.0\n"
   ]
  },
  {
   "cell_type": "markdown",
   "metadata": {
    "deletable": false,
    "editable": false,
    "nbgrader": {
     "cell_type": "markdown",
     "checksum": "3b288aaaf2a174f6faf0beea4cd60acb",
     "grade": false,
     "grade_id": "cell-530daab4e6fe8231",
     "locked": true,
     "schema_version": 3,
     "solution": false,
     "task": false
    }
   },
   "source": [
    "### QR Factorization"
   ]
  },
  {
   "cell_type": "code",
   "execution_count": 7,
   "metadata": {
    "deletable": false,
    "nbgrader": {
     "cell_type": "code",
     "checksum": "0d63d05e76f00b154e145e5f277feae2",
     "grade": false,
     "grade_id": "cell-2c797c56504c8d96",
     "locked": false,
     "schema_version": 3,
     "solution": true,
     "task": false
    }
   },
   "outputs": [],
   "source": [
    "def QR_factorization(A: np.ndarray) -> (np.ndarray, np.ndarray) :\n",
    "    \"\"\"Performs QR factorization of matrix A.\n",
    "\n",
    "    Parameters\n",
    "    ----------\n",
    "    A : ndarray(dtype=float, ndim=2)\n",
    "        Matrix with non linear columns.\n",
    "    \n",
    "    Returns\n",
    "    ----------\n",
    "    Q : ndarray(dtype=float, ndim=2)\n",
    "    R : ndarray(dtype=float, ndim=2)\n",
    "   \"\"\"\n",
    "    Q = gram_schmidt(A.T).T\n",
    "    # Code to calculate R matrix in QR factorization\n",
    "    R = Q.T @ A\n",
    "    \n",
    "    return Q, R"
   ]
  },
  {
   "cell_type": "code",
   "execution_count": 8,
   "metadata": {
    "nbgrader": {
     "cell_type": "code",
     "checksum": "740bf85f09b90ebda87842180c1fd5c0",
     "grade": true,
     "grade_id": "cell-bdb790e2e3cf5eca",
     "locked": true,
     "points": 1,
     "schema_version": 3,
     "solution": false,
     "task": false
    }
   },
   "outputs": [],
   "source": [
    "A = A_\n",
    "Q1, R1 = QR_factorization(A)\n",
    "Q2, R2 = np.linalg.qr(A)\n",
    "\n",
    "# print(\"Q1 and Q2 : \")\n",
    "# print(Q1, Q2)\n",
    "# print(\"R1 and R2 : \")\n",
    "# print(R1, R2)\n"
   ]
  },
  {
   "cell_type": "markdown",
   "metadata": {
    "nbgrader": {
     "cell_type": "markdown",
     "checksum": "7319642d003abe7f8dec476e950a0894",
     "grade": false,
     "grade_id": "cell-ab2b9c6b7c815cd4",
     "locked": true,
     "schema_version": 3,
     "solution": false,
     "task": false
    }
   },
   "source": [
    "Q1 and Q2 : \n",
    "\n",
    "[[ 3.48371311e-01 -1.78310119e-01  8.11429912e-02  9.16656286e-01]\n",
    " [ 6.00879163e-01  3.14060516e-01  6.98444699e-01 -2.29096543e-01]\n",
    " [ 6.29650071e-01  2.88993757e-01 -7.11048771e-01 -1.20137599e-01]\n",
    " [ 3.48026507e-01 -8.86596922e-01 -6.80545069e-04 -3.04668648e-01]] \n",
    " \n",
    " [[-3.48371311e-01  1.78310119e-01  8.11429912e-02 -9.16656286e-01]\n",
    " [-6.00879163e-01 -3.14060516e-01  6.98444699e-01  2.29096543e-01]\n",
    " [-6.29650071e-01 -2.88993757e-01 -7.11048771e-01  1.20137599e-01]\n",
    " [-3.48026507e-01  8.86596922e-01 -6.80545069e-04  3.04668648e-01]]\n",
    " \n",
    "R1 and R2 : \n",
    "\n",
    "[[ 1.29273156e+00  1.00581004e+00  1.08085203e+00  1.21809581e+00]\n",
    " [-1.80411242e-15  2.60686562e-01 -5.18405414e-01  1.59475505e-01]\n",
    " [-1.88737914e-15 -8.32667268e-16  7.07698218e-01 -1.72860933e-01]\n",
    " [-2.22044605e-15  3.05311332e-16 -2.05391260e-15  2.63921306e-01]] \n",
    " \n",
    " [[-1.29273156 -1.00581004 -1.08085203 -1.21809581]\n",
    " [ 0.         -0.26068656  0.51840541 -0.1594755 ]\n",
    " [ 0.          0.          0.70769822 -0.17286093]\n",
    " [ 0.          0.          0.         -0.26392131]]\n"
   ]
  },
  {
   "cell_type": "markdown",
   "metadata": {
    "deletable": false,
    "editable": false,
    "nbgrader": {
     "cell_type": "markdown",
     "checksum": "bed81748567a9a4a1fa94990c3f527f6",
     "grade": false,
     "grade_id": "cell-40a31d08bc0816ea",
     "locked": true,
     "schema_version": 3,
     "solution": false,
     "task": false
    }
   },
   "source": [
    "### Solving Linear Equations"
   ]
  },
  {
   "cell_type": "code",
   "execution_count": 9,
   "metadata": {
    "deletable": false,
    "nbgrader": {
     "cell_type": "code",
     "checksum": "66fc9a5ac6e07bcf2534364421ffde17",
     "grade": false,
     "grade_id": "cell-7d502b7f68b6931d",
     "locked": false,
     "schema_version": 3,
     "solution": true,
     "task": false
    }
   },
   "outputs": [],
   "source": [
    "def solve_linear_equations(A: np.ndarray, b: np.ndarray) -> np.ndarray :\n",
    "    \"\"\"Solves the system of linear equations Ax = b.\n",
    "\n",
    "    Parameters\n",
    "    ----------\n",
    "    A : ndarray(dtype=float, ndim=2)\n",
    "    b : ndarray(dtype=float, ndim=1)\n",
    "    \n",
    "    Returns\n",
    "    ----------\n",
    "    x : ndarray(dtype=bool, ndim=1)\n",
    "    solution to the system of linear equations Ax = b\n",
    "   \"\"\"    \n",
    "    # QR factorization of A\n",
    "    Q, R = QR_factorization(A)\n",
    "    b = Q.T @ b\n",
    "    # back substitution to calculate x\n",
    "    x = backsubstitution(R, b)\n",
    "    \n",
    "    return x"
   ]
  },
  {
   "cell_type": "code",
   "execution_count": 10,
   "metadata": {
    "nbgrader": {
     "cell_type": "code",
     "checksum": "6bfd6a7d81c741c0d8c2abbe832cbdfe",
     "grade": true,
     "grade_id": "cell-1d475b95cdc0f655",
     "locked": true,
     "points": 1,
     "schema_version": 3,
     "solution": false,
     "task": false
    }
   },
   "outputs": [
    {
     "name": "stdout",
     "output_type": "stream",
     "text": [
      "1.824929096727601e-15\n"
     ]
    }
   ],
   "source": [
    "A = A_\n",
    "x = x_\n",
    "\n",
    "b = A @ x\n",
    "xhat = solve_linear_equations(A, b)\n",
    "print(np.sum(x - xhat))\n"
   ]
  },
  {
   "cell_type": "markdown",
   "metadata": {
    "nbgrader": {
     "cell_type": "markdown",
     "checksum": "ad08b288cd24d1bb1a1bf79c4e0aed84",
     "grade": false,
     "grade_id": "cell-be7bbee5dc15dff2",
     "locked": true,
     "schema_version": 3,
     "solution": false,
     "task": false
    }
   },
   "source": [
    "Expected Output : 1.908195823574488e-15"
   ]
  },
  {
   "cell_type": "markdown",
   "metadata": {
    "nbgrader": {
     "cell_type": "markdown",
     "checksum": "16f79929f057a55023e4ef50f7f09022",
     "grade": false,
     "grade_id": "cell-4c853ef286e456d5",
     "locked": true,
     "schema_version": 3,
     "solution": false,
     "task": false
    }
   },
   "source": [
    "### Solving Constrained Least Squares"
   ]
  },
  {
   "cell_type": "markdown",
   "metadata": {
    "nbgrader": {
     "cell_type": "markdown",
     "checksum": "4d2649f085caa8a5bd352f14b9165409",
     "grade": false,
     "grade_id": "cell-4e96d11fb9c00466",
     "locked": true,
     "schema_version": 3,
     "solution": false,
     "task": false
    }
   },
   "source": [
    "#### Solving via KKT"
   ]
  },
  {
   "cell_type": "code",
   "execution_count": 15,
   "metadata": {
    "deletable": false,
    "nbgrader": {
     "cell_type": "code",
     "checksum": "131d4bb1d6149efe9813982e87ec0073",
     "grade": false,
     "grade_id": "cell-5c80d5ab3016e474",
     "locked": false,
     "schema_version": 3,
     "solution": true,
     "task": false
    }
   },
   "outputs": [],
   "source": [
    "def solve_cls_kkt(A: np.ndarray, b: np.ndarray, C: np.ndarray, d: np.ndarray) :\n",
    "    \"\"\"Solved the Constrained Least Squares problem using KKT matrix.\n",
    "\n",
    "    Parameters\n",
    "    ----------\n",
    "    A : ndarray(dtype=float, ndim=2)\n",
    "    b : ndarray(dtype=float, ndim=1)\n",
    "    C : ndarray(dtype=float, ndim=2)\n",
    "    d : ndarray(dtype=float, ndim=1)\n",
    "    \n",
    "    Returns\n",
    "    ----------\n",
    "    x : ndarray(dtype=float, ndim=1)\n",
    "    Solution for cls satisfying Cx = d while minimizing |Ax - b|^2\n",
    "   \"\"\"    \n",
    "    \n",
    "    m, n = A.shape\n",
    "    p, n = C.shape\n",
    "    \n",
    "    # General form\n",
    "    # 2 * (A'A) x + 2 * A'b + C'z = 0\n",
    "    \n",
    "    # Gram matrix\n",
    "    G = A.T @ A\n",
    "    # KKT matrix\n",
    "\n",
    "    # TODO : Create the KKT matrix as described in the algorithm\n",
    "    # Hint : use np.vstack, np.hstack or np.concatenate\n",
    "    z = np.zeros([p,p])\n",
    "    row1 = np.hstack((2*G,C.T))\n",
    "    row2 = np.hstack((C,z))\n",
    "    KKT = np.vstack((row1,row2))\n",
    "\n",
    "    \n",
    "    x = solve_linear_equations(KKT, np.hstack([2*A.T @ b,d]))\n",
    "    return x[: n]"
   ]
  },
  {
   "cell_type": "code",
   "execution_count": 12,
   "metadata": {
    "nbgrader": {
     "cell_type": "code",
     "checksum": "545a479f27b07920a0ce85906db02162",
     "grade": true,
     "grade_id": "cell-ccb0bc9ef3638e34",
     "locked": true,
     "points": 1,
     "schema_version": 3,
     "solution": false,
     "task": false
    }
   },
   "outputs": [
    {
     "name": "stdout",
     "output_type": "stream",
     "text": [
      "[3.33066907e-15 5.10702591e-15]\n",
      "[-0.0982787   0.12220912  0.48788039 -0.26556527  1.3220345 ]\n"
     ]
    }
   ],
   "source": [
    "# The residual Cx - d should be low\n",
    "\n",
    "A = np.array([[-0.19900912, -1.27498361,  0.29349415,  0.10895031,  0.03172679],\n",
    "       [ 1.27263986,  1.0714479 ,  0.41581801,  1.55067923, -0.31137892],\n",
    "       [-1.37923991,  1.37140879,  0.02771165, -0.32039958, -0.84617041],\n",
    "       [-0.43342892, -1.3370345 ,  0.20917217, -1.4243213 , -0.55347685],\n",
    "       [ 0.07479864, -0.50561983,  1.05240778,  0.97140041,  0.07683154],\n",
    "       [-0.43500078,  0.5529944 ,  0.26671631,  0.00898941,  0.64110275],\n",
    "       [-0.17770716,  0.69627761, -1.1887251 , -0.33169686,  0.03007614],\n",
    "       [-1.10791517, -0.5499249 , -2.03290956,  1.4079178 ,  0.63310826],\n",
    "       [ 2.21274689, -0.52660228,  0.54288168, -0.0844797 ,  1.29201502],\n",
    "       [-0.17671057,  1.68778715, -1.04661354,  0.64212021, -0.17296174]])\n",
    "b = np.array([-1.11206497, -0.02070278, -1.81352177,  0.20352189,  0.53187404,\n",
    "       -1.01702346, -1.84805054,  0.17254907,  0.78620153, -0.07147003])\n",
    "C = np.array([[ 0.83634877, -0.19822889, -0.09227256,  0.87072588, -0.83919248],\n",
    "       [ 0.82325537,  0.70175236,  0.59836051, -0.50799497,  0.13613812]])\n",
    "d = np.array([-1.49211459,  0.61166554])\n",
    "\n",
    "x1 = solve_cls_kkt(A, b, C, d)\n",
    "print(C @ x1 - d)\n",
    "print(x1)\n"
   ]
  },
  {
   "cell_type": "markdown",
   "metadata": {
    "nbgrader": {
     "cell_type": "markdown",
     "checksum": "21868d8025c74f86a2721883cf09a4d3",
     "grade": false,
     "grade_id": "cell-5fb0d756501299b3",
     "locked": true,
     "schema_version": 3,
     "solution": false,
     "task": false
    }
   },
   "source": [
    "Expected Output : \n",
    "    \n",
    "[8.65973959e-15 6.66133815e-16]\n",
    "\n",
    "[-0.0982787   0.12220912  0.48788039 -0.26556527  1.3220345 ]"
   ]
  },
  {
   "cell_type": "markdown",
   "metadata": {
    "nbgrader": {
     "cell_type": "markdown",
     "checksum": "1add007b7a5dce57a692b64a5eb18ef5",
     "grade": false,
     "grade_id": "cell-544469c8903570bb",
     "locked": true,
     "schema_version": 3,
     "solution": false,
     "task": false
    }
   },
   "source": [
    "#### Solving via QR"
   ]
  },
  {
   "cell_type": "code",
   "execution_count": 13,
   "metadata": {
    "deletable": false,
    "nbgrader": {
     "cell_type": "code",
     "checksum": "fa29459aa1dd45e6131af0c092ee2339",
     "grade": false,
     "grade_id": "cell-1b01b5a684b67771",
     "locked": false,
     "schema_version": 3,
     "solution": true,
     "task": false
    }
   },
   "outputs": [],
   "source": [
    "# Assign the appropriate values for the variables used below\n",
    "\n",
    "FUNCTION1 = backsubstitution\n",
    "FUNCTION2 = QR_factorization\n",
    "FUNCTION3 = np.vstack\n",
    "\n",
    "\n",
    "def solve_cls_QR(A: np.ndarray, b: np.ndarray, C: np.ndarray, d: np.ndarray) :\n",
    "    \"\"\"Solved the Constrained Least Squares problem using KKT matrix.\n",
    "\n",
    "    Parameters\n",
    "    ----------\n",
    "    A : ndarray(dtype=float, ndim=2)\n",
    "    b : ndarray(dtype=float, ndim=1)\n",
    "    C : ndarray(dtype=float, ndim=2)\n",
    "    d : ndarray(dtype=float, ndim=1)\n",
    "    \n",
    "    Returns\n",
    "    ----------\n",
    "    x : ndarray(dtype=float, ndim=1)\n",
    "    Solution for cls satisfying Cx = d while minimizing |Ax - b|^2\n",
    "   \"\"\"    \n",
    "    m, n = A.shape\n",
    "    p, n = C.shape\n",
    "\n",
    "    # step 1\n",
    "    Q, R = QR_factorization(FUNCTION3([A,C]))  \n",
    "    Q1 = Q[: m, :]\n",
    "    Q2 = Q[m : m + p + 1, :]\n",
    "    \n",
    "    Qtil, Rtil = FUNCTION2(Q2.T)\n",
    "    \n",
    "    \n",
    "    # step 2 + 3\n",
    "    w = FUNCTION1(Rtil, (2 * Qtil.T @ (Q1.T @ b) - 2 * solve_linear_equations(Rtil.T, d)))\n",
    "    # step 4\n",
    "    x = FUNCTION1(R, (Q1.T @ b - (Q2.T @ w) / 2))\n",
    "    \n",
    "    return x"
   ]
  },
  {
   "cell_type": "code",
   "execution_count": 14,
   "metadata": {
    "nbgrader": {
     "cell_type": "code",
     "checksum": "47ffdf36486bd8aced7192eb57eb5e0b",
     "grade": true,
     "grade_id": "cell-1410592d4ccf0245",
     "locked": true,
     "points": 1,
     "schema_version": 3,
     "solution": false,
     "task": false
    }
   },
   "outputs": [
    {
     "name": "stdout",
     "output_type": "stream",
     "text": [
      "[ 0.00000000e+00 -2.22044605e-16]\n",
      "[-0.0982787   0.12220912  0.48788039 -0.26556527  1.3220345 ]\n",
      "5.377781551615544e-15\n"
     ]
    }
   ],
   "source": [
    "# The residual Cx - d should be low\n",
    "# Comparing the results of two methods,\n",
    "# the norm of x1 - x2 should be low\n",
    "x2 = solve_cls_QR(A, b, C, d)\n",
    "print(C @ x2 - d)\n",
    "print(x2)\n",
    "print(np.linalg.norm(x1 - x2))\n"
   ]
  },
  {
   "cell_type": "markdown",
   "metadata": {
    "deletable": false,
    "editable": false,
    "nbgrader": {
     "cell_type": "markdown",
     "checksum": "11ae45822077f93b0f4d489944bbb036",
     "grade": false,
     "grade_id": "cell-780f2f69b370252b",
     "locked": true,
     "schema_version": 3,
     "solution": false,
     "task": false
    }
   },
   "source": [
    "Expected Output :\n",
    "\n",
    "[0.00000000e+00 1.11022302e-16]\n",
    "\n",
    "[-0.0982787   0.12220912  0.48788039 -0.26556527  1.3220345 ]\n",
    "\n",
    "7.150711129076838e-15"
   ]
  }
 ],
 "metadata": {
  "kernelspec": {
   "display_name": "Python 3",
   "language": "python",
   "name": "python3"
  },
  "language_info": {
   "codemirror_mode": {
    "name": "ipython",
    "version": 3
   },
   "file_extension": ".py",
   "mimetype": "text/x-python",
   "name": "python",
   "nbconvert_exporter": "python",
   "pygments_lexer": "ipython3",
   "version": "3.6.12"
  }
 },
 "nbformat": 4,
 "nbformat_minor": 4
}
