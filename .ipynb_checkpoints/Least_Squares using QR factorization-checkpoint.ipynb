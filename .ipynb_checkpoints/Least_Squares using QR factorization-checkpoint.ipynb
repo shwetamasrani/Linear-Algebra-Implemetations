{
 "cells": [
  {
   "cell_type": "markdown",
   "metadata": {},
   "source": [
    "## Least Square using QR decomposition"
   ]
  },
  {
   "cell_type": "markdown",
   "metadata": {},
   "source": [
    "### Least squares problem: \n",
    "\n",
    "Finding approximate solutions of **over-determined** ( *the ${m} \\times {n}$ matrix $A$ is tall, so the system of linear equations $Ax = b$, where $b$ is an $m$-vector, is over-determined, i.e., there are more equations ($m$) than variables to choose ($n$)*) systems of linear equations by minimizing the sum of the squares of the errors in the equations.\n",
    "\n",
    "These equations have a solution only if $b$ is a linear combination of the columns of $A$.\n",
    "\n",
    "For most choices of $b$, there is no $n$-vector $x$ for which $Ax = b$. As a compromise, we find an $x$ for which ***residual* $r = Ax - b$**, is as small as possible. Hence, we should choose $x$ so as to minimize the norm of the residual, $||Ax - b||$.\n",
    "\n",
    "Minimizing the norm of the residual and its square are the same, so we can just as well minimize $ ||Ax −b||^2 = ||r||^2 = r_{1}^2  + ... +  r_{m}^2$ the sum of squares of the residuals.\n",
    "\n",
    "The problem of finding an $n$-vector $\\hat{x}$ that minimizes $||Ax - b||^2$ , over all possible choices of $x$, is called the ***least squares problem***.\n"
   ]
  },
  {
   "cell_type": "code",
   "execution_count": 2,
   "metadata": {
    "executionInfo": {
     "elapsed": 1000,
     "status": "ok",
     "timestamp": 1604314258241,
     "user": {
      "displayName": "Shweta Masrani",
      "photoUrl": "",
      "userId": "05385138413223991502"
     },
     "user_tz": -330
    },
    "id": "JFXJIGgtKifk"
   },
   "outputs": [],
   "source": [
    "import os\n",
    "import random"
   ]
  },
  {
   "cell_type": "code",
   "execution_count": 3,
   "metadata": {
    "executionInfo": {
     "elapsed": 1189,
     "status": "ok",
     "timestamp": 1604314263875,
     "user": {
      "displayName": "Shweta Masrani",
      "photoUrl": "",
      "userId": "05385138413223991502"
     },
     "user_tz": -330
    },
    "id": "lBAX4CTgKifo"
   },
   "outputs": [],
   "source": [
    "def generate_dataset(r, c, seed = 42, sample = 0):\n",
    "    '''\n",
    "    Parameters\n",
    "    ----------\n",
    "    A : array-like, shape=[r, c]\n",
    "    b : array-like, shape=[r]\n",
    "    ''' \n",
    "    if sample == 1:\n",
    "        # sample test-case\n",
    "        A = [[1. , 1.],\n",
    "             [1. , 1.],\n",
    "             [1. , 0.]]\n",
    "        b =  [1, 2, 3]\n",
    "        \"\"\"\n",
    "        Q = [[0.5773502691896258, 0.4082482904638628], \n",
    "             [0.5773502691896258, 0.4082482904638628], \n",
    "             [0.5773502691896258, -0.8164965809277263]]\n",
    "        R = [[1.7320508075688776, 1.1547005383792517],\n",
    "             [-6.661338147750939e-16, 0.8164965809277256]]\n",
    "        soln = [3.00, -1.50]\n",
    "        \"\"\"\n",
    "        return A, b\n",
    "    random.seed(seed)\n",
    "    A = [[random.random() for i in range(c)] for j in range(r)]\n",
    "    b = [random.random() for i in range(r)]\n",
    "    return A, b"
   ]
  },
  {
   "cell_type": "code",
   "execution_count": 4,
   "metadata": {
    "executionInfo": {
     "elapsed": 958,
     "status": "ok",
     "timestamp": 1604314265986,
     "user": {
      "displayName": "Shweta Masrani",
      "photoUrl": "",
      "userId": "05385138413223991502"
     },
     "user_tz": -330
    },
    "id": "mjpZ-QW8Kifr"
   },
   "outputs": [],
   "source": [
    "def leastSquare(A, b):\n",
    "    \"\"\"\n",
    "    solve the least squares problem using QR decomposition followed by back-substitution\n",
    "    Here, A is the matrix and b is the column vector\n",
    "    \"\"\"\n",
    "    ### YOUR CODE HERE \n",
    "    m = len(A)\n",
    "    n = len(A[0])\n",
    "    Q = [[0.0] * n for i in range(m)]\n",
    "    R = [[0.0] * n for i in range(n)]\n",
    "    A = list(map(list,zip(*A)))\n",
    "    newQ = list(map(list,zip(*Q)))\n",
    "    \n",
    "    for j in range(n):\n",
    "        v = A[j]\n",
    "        for i in range(j):\n",
    "            q = newQ[i]\n",
    "            R[i][j] = sum([q[k]*v[k] for k in range(len(v))])\n",
    "            mid = [ R[i][j]*k for k in q ]\n",
    "            v = [x1 - x2 for (x1, x2) in zip(v, mid)]\n",
    "\n",
    "        norm = (sum([x**2 for x in v])) ** 0.5\n",
    "        newQ[j] = [i/norm for i in v]\n",
    "        R[j][j] = norm\n",
    "        \n",
    "    Q = list(map(list,zip(*newQ)))\n",
    "    ##complete the following block of code\n",
    "    #perform QR decomposition and obtain the \"Q\" and \"R\" matrices\n",
    "    \n",
    "    yield Q, R\n",
    "\n",
    "    ### YOUR CODE HERE \n",
    "    #Rx=QTb\n",
    "    #bn = multiply(newQ,b)\n",
    "    bn = []                    #matrix vector multiplication\n",
    "    for i in range(len(newQ)): #this loops through rows of the matrix\n",
    "        total = 0\n",
    "        for j in range(len(b)): #this loops through vector coordinates & rows of matrix\n",
    "            total += b[j] * newQ[i][j]\n",
    "        bn.append(total)\n",
    "        \n",
    "    #soln = backsub(R,bn)\n",
    "    n = len(bn)\n",
    "    xcomp = [0]*n\n",
    "    for i in range(n-1, -1, -1):      #RnnXn = bn upto 1\n",
    "        tmp = bn[i]\n",
    "        for j in range(n-1, i, -1):\n",
    "            tmp -= xcomp[j]*R[i][j]\n",
    "        xcomp[i] = tmp / R[i][i]\n",
    "    soln = xcomp\n",
    "    ##complete the following block of code\n",
    "    #perform back-substitution and obtain the least square solution, \"soln\" \n",
    "    \n",
    "    yield soln\n",
    "    "
   ]
  },
  {
   "cell_type": "code",
   "execution_count": 5,
   "metadata": {
    "executionInfo": {
     "elapsed": 1874,
     "status": "ok",
     "timestamp": 1604314269728,
     "user": {
      "displayName": "Shweta Masrani",
      "photoUrl": "",
      "userId": "05385138413223991502"
     },
     "user_tz": -330
    },
    "id": "171T8bbGKifv"
   },
   "outputs": [],
   "source": [
    "def main():\n",
    "    seed = 42\n",
    "    ## use sample = 1 to use the sample test-case\n",
    "    A, b, = generate_dataset(3, 2, seed, sample=0)\n",
    "\n",
    "    iterator =  leastSquare(A, b)\n",
    "    \n",
    "    Q, R = next(iterator)\n",
    "    print(\"Q \\n {}\".format(Q))\n",
    "    print(\"R \\n {}\".format(R))\n",
    "\n",
    "    soln = next(iterator)\n",
    "    print(\"Solution \\n {}\".format(soln))"
   ]
  },
  {
   "cell_type": "code",
   "execution_count": 6,
   "metadata": {
    "colab": {
     "base_uri": "https://localhost:8080/",
     "height": 303
    },
    "executionInfo": {
     "elapsed": 1100,
     "status": "error",
     "timestamp": 1604314272946,
     "user": {
      "displayName": "Shweta Masrani",
      "photoUrl": "",
      "userId": "05385138413223991502"
     },
     "user_tz": -330
    },
    "id": "hHn1hUCcKifx",
    "outputId": "93ad584f-a4b3-4047-a3cf-737e24c44b44"
   },
   "outputs": [
    {
     "name": "stdout",
     "output_type": "stream",
     "text": [
      "Q \n",
      " [[0.6309969542971976, -0.7741874703998282], [0.2714034861408441, 0.16020067612520555], [0.7267619908733923, 0.6123475353465072]]\n",
      "R \n",
      " [[1.013359563946034, 0.5681613495503163], [0.0, 0.43077076114488627]]\n",
      "Solution \n",
      " [1.4260202529741812, -0.9713375053353163]\n"
     ]
    }
   ],
   "source": [
    "main()"
   ]
  }
 ],
 "metadata": {
  "colab": {
   "name": "Student.ipynb",
   "provenance": []
  },
  "kernelspec": {
   "display_name": "Python 3",
   "language": "python",
   "name": "python3"
  },
  "language_info": {
   "codemirror_mode": {
    "name": "ipython",
    "version": 3
   },
   "file_extension": ".py",
   "mimetype": "text/x-python",
   "name": "python",
   "nbconvert_exporter": "python",
   "pygments_lexer": "ipython3",
   "version": "3.6.12"
  }
 },
 "nbformat": 4,
 "nbformat_minor": 1
}
